{
  "nbformat": 4,
  "nbformat_minor": 0,
  "metadata": {
    "colab": {
      "provenance": []
    },
    "kernelspec": {
      "name": "python3",
      "display_name": "Python 3"
    },
    "language_info": {
      "name": "python"
    }
  },
  "cells": [
    {
      "cell_type": "markdown",
      "source": [
        "#Python basics\n",
        "\n",
        "\n",
        "\n",
        "\n",
        "\n",
        "\n",
        "\n",
        "\n",
        "\n",
        "\n"
      ],
      "metadata": {
        "id": "yaBIa20qLFFl"
      }
    },
    {
      "cell_type": "markdown",
      "source": [
        "1.What is Python, and why is it popular?\n",
        "\n",
        ">-Python is a high-level, interpreted, general-purpose programming language\n",
        "   known for its simplicity and readability.\n",
        "\n",
        "2.What is an interpreter in Python?\n",
        "   >-An interpreter in Python is a program that directly executes Python code line-by-line, without the need for prior compilation, allowing for quick debugging and testing.\n",
        "\n",
        "3.What are pre-defined keywords in Python?\n",
        "  >-Pre-defined keywords are reserved words in Python that have special meanings and cannot be used as identifiers. Examples include if, else, for, while, def, etc.\n",
        "\n",
        "4.Can keywords be used as variable names?\n",
        " >No, keywords cannot be used as variable names because they are reserved by\n",
        " Python for specific functionalities.\n",
        "\n",
        "5.What is mutability in Python?\n",
        ">-Mutability refers to whether an object can be modified after its creation.\n",
        "  Mutable objects (e.g., lists) can be changed, while immutable objects (e.g., tuples, strings) cannot.\n",
        "\n",
        "6.Why are lists mutable, but tuples are immutable?\n",
        ">-Lists are mutable to allow flexibility in dynamic data handling, enabling modifications like adding or removing elements.\n",
        "Tuples are immutable to provide consistency and ensure hashability, making them suitable for keys in dictionaries.\n",
        "\n",
        "7.What is the difference between == and is operators in Python?\n",
        ">-== checks for equality of values between two objects.\n",
        "is checks for identity, i.e., whether two objects refer to the same memory location.\n",
        "\n",
        "8.What are logical operators in Python?\n",
        ">-Logical operators in Python include:\n",
        "  and: Returns True if both conditions are true.\n",
        "  or: Returns True if at least one condition is true.\n",
        "  not: Returns True if the condition is false.\n",
        "\n",
        "9.What is type casting in Python?\n",
        ">-Type casting is the process of converting one data type to another. For\n",
        "  example, converting an integer to a string using str().\n",
        "\n",
        "10.What is the difference between implicit and explicit type casting?\n",
        ">-Implicit type casting: Automatically performed by Python when converting\n",
        "  smaller data types to larger ones (e.g., int to float).\n",
        " Explicit type casting: Done manually by the programmer using functions like int(), float(), or str().\n",
        "\n",
        "11.What is the purpose of conditional statements in Python?\n",
        ">-Conditional statements control the flow of execution based on certain\n",
        " conditions, allowing the program to make decisions. Examples include if, elif, and else.\n",
        "\n",
        "12.How does the elif statement work?\n",
        ">-The elif statement checks multiple conditions sequentially. If the if\n",
        " condition is false, Python evaluates the elif conditions in order until one evaluates to True.\n",
        "\n",
        "13.What is the difference between for and while loops?\n",
        ">-for loops iterate over a sequence (e.g., list, range) for a specific number  \n",
        " of times.\n",
        " while loops execute as long as the given condition is True, making them suitable for scenarios where the number of iterations is unknown beforehand.\n",
        "\n",
        "14.Describe a scenario where a while loop is more suitable than a for loop.\n",
        "  >-A while loop is more suitable in cases where the number of iterations is not predetermined. For example, repeatedly prompting a user for input until they provide a valid response."
      ],
      "metadata": {
        "id": "h3DR18gbLwSO"
      }
    },
    {
      "cell_type": "markdown",
      "source": [
        "#Practical Questions"
      ],
      "metadata": {
        "id": "OTGb8sMaSb3B"
      }
    },
    {
      "cell_type": "code",
      "source": [
        "# 1. Print \"Hello, World!\"\n",
        "print(\"Hello, World!\")\n"
      ],
      "metadata": {
        "colab": {
          "base_uri": "https://localhost:8080/"
        },
        "id": "54Jb8CVYSiQX",
        "outputId": "ffc9894d-68f3-432a-ab72-b2871f073ed2"
      },
      "execution_count": 12,
      "outputs": [
        {
          "output_type": "stream",
          "name": "stdout",
          "text": [
            "Hello, World!\n"
          ]
        }
      ]
    },
    {
      "cell_type": "code",
      "execution_count": 11,
      "metadata": {
        "colab": {
          "base_uri": "https://localhost:8080/"
        },
        "id": "N4fGVWrLK2ik",
        "outputId": "d32254db-eb34-459c-c3c1-9109db6ef0b5"
      },
      "outputs": [
        {
          "output_type": "stream",
          "name": "stdout",
          "text": [
            "enter your namev\n",
            "enter your age2\n",
            "My name is v and I am 2 years old.\n"
          ]
        }
      ],
      "source": [
        "#2 Write a Python program that displays your name and age\n",
        "name = input(\"enter your name\")\n",
        "age = int(input(\"enter your age\"))\n",
        "print(f\"My name is {name} and I am {age} years old.\")"
      ]
    },
    {
      "cell_type": "code",
      "source": [
        "# 3. Print all pre-defined keywords in Python\n",
        "import keyword\n",
        "print(\"Python Keywords:\")\n",
        "print(keyword.kwlist)"
      ],
      "metadata": {
        "colab": {
          "base_uri": "https://localhost:8080/"
        },
        "id": "kxS2VOBpSwy0",
        "outputId": "51019058-86a9-45d5-a840-c2a29335d95f"
      },
      "execution_count": 17,
      "outputs": [
        {
          "output_type": "stream",
          "name": "stdout",
          "text": [
            "Python Keywords:\n",
            "['False', 'None', 'True', 'and', 'as', 'assert', 'async', 'await', 'break', 'class', 'continue', 'def', 'del', 'elif', 'else', 'except', 'finally', 'for', 'from', 'global', 'if', 'import', 'in', 'is', 'lambda', 'nonlocal', 'not', 'or', 'pass', 'raise', 'return', 'try', 'while', 'with', 'yield']\n"
          ]
        }
      ]
    },
    {
      "cell_type": "code",
      "source": [
        "# 4. Check if a given word is a Python keyword\n",
        "import keyword\n",
        "\n",
        "word = input(\"Enter a word: \")\n",
        "if keyword.iskeyword(word):\n",
        "    print(f\"'{word}' is a Python keyword.\")\n",
        "else:\n",
        "    print(f\"'{word}' is not a Python keyword.\")"
      ],
      "metadata": {
        "colab": {
          "base_uri": "https://localhost:8080/"
        },
        "id": "IfpH5Hs5SwwK",
        "outputId": "d924e0d0-1e0a-40e3-e4cc-f40ae6f25d47"
      },
      "execution_count": 18,
      "outputs": [
        {
          "output_type": "stream",
          "name": "stdout",
          "text": [
            "Enter a word: try\n",
            "'try' is a Python keyword.\n"
          ]
        }
      ]
    },
    {
      "cell_type": "code",
      "source": [
        "# List (mutable)\n",
        "my_list = [1, 2, 3]\n",
        "print(\"Original list:\", my_list)\n",
        "\n",
        "# Modifying the list directly\n",
        "my_list.append(4)  # Adding an element\n",
        "my_list[0] = 10    # Changing an existing element\n",
        "print(\"Modified list:\", my_list)\n",
        "\n",
        "# Tuple (immutable)\n",
        "my_tuple = (1, 2, 3)\n",
        "print(\"Original tuple:\", my_tuple)\n",
        "\n",
        "# Attempting to modify the tuple directly\n",
        "try:\n",
        "    my_tuple[0] = 10  # Direct modification attempt\n",
        "except TypeError as e:\n",
        "    print(\"Error when trying to modify tuple:\", e)\n",
        "\n",
        "\n",
        "print(\"Tuple remains unchanged:\", my_tuple)\n"
      ],
      "metadata": {
        "colab": {
          "base_uri": "https://localhost:8080/"
        },
        "id": "DZRk-TQJSwtm",
        "outputId": "72a1a2d6-20aa-4ed5-f76a-9084576774c3"
      },
      "execution_count": 20,
      "outputs": [
        {
          "output_type": "stream",
          "name": "stdout",
          "text": [
            "Original list: [1, 2, 3]\n",
            "Modified list: [10, 2, 3, 4]\n",
            "Original tuple: (1, 2, 3)\n",
            "Error when trying to modify tuple: 'tuple' object does not support item assignment\n",
            "Tuple remains unchanged: (1, 2, 3)\n"
          ]
        }
      ]
    },
    {
      "cell_type": "code",
      "source": [
        "# List (mutable)\n",
        "my_list = [1, 2, 3]\n",
        "print(\"Original list:\", my_list)\n",
        "\n",
        "# Modifying the list directly\n",
        "my_list.append(4)  # Adding an element\n",
        "my_list[0] = 10    # Changing an existing element\n",
        "print(\"Modified list:\", my_list)\n",
        "\n",
        "# Tuple (immutable)\n",
        "my_tuple = (1, 2, 3)\n",
        "print(\"Original tuple:\", my_tuple)\n",
        "\n",
        "# Attempting to modify the tuple directly\n",
        "try:\n",
        "    my_tuple[0] = 10  # Direct modification attempt\n",
        "except TypeError as e:\n",
        "    print(\"Error when trying to modify tuple:\", e)\n",
        "\n",
        "\n",
        "print(\"Tuple remains unchanged:\", my_tuple)\n"
      ],
      "metadata": {
        "id": "TPExdCbISwrC"
      },
      "execution_count": null,
      "outputs": []
    },
    {
      "cell_type": "code",
      "source": [
        "# 7. Demonstrate logical operators\n",
        "a = 10\n",
        "b = 20\n",
        "\n",
        "print(\"a > 5 and b > 15:\", a > 5 and b > 15)\n",
        "print(\"a > 15 or b > 15:\", a > 15 or b > 15)\n",
        "print(\"not (a > 15):\", not (a > 15))\n"
      ],
      "metadata": {
        "colab": {
          "base_uri": "https://localhost:8080/"
        },
        "id": "ibITYNlNSwmG",
        "outputId": "8e4d8ccb-a641-4aff-fbc0-ddbfdfad1456"
      },
      "execution_count": 21,
      "outputs": [
        {
          "output_type": "stream",
          "name": "stdout",
          "text": [
            "a > 5 and b > 15: True\n",
            "a > 15 or b > 15: True\n",
            "not (a > 15): True\n"
          ]
        }
      ]
    },
    {
      "cell_type": "code",
      "source": [
        "# 8. Convert user input to integer, float, and boolean\n",
        "user_input = input(\"Enter a value: \")\n",
        "\n",
        "int_value = int(user_input)\n",
        "float_value = float(user_input)\n",
        "bool_value = bool(user_input)\n",
        "\n",
        "print(\"Integer:\", int_value)\n",
        "print(\"Float:\", float_value)\n",
        "print(\"Boolean:\", bool_value)\n"
      ],
      "metadata": {
        "colab": {
          "base_uri": "https://localhost:8080/"
        },
        "id": "crVKZDrYSwjk",
        "outputId": "22ffdfd6-5115-4a19-e75a-de0d09b5270d"
      },
      "execution_count": 23,
      "outputs": [
        {
          "output_type": "stream",
          "name": "stdout",
          "text": [
            "Enter a value: 5\n",
            "Integer: 5\n",
            "Float: 5.0\n",
            "Boolean: True\n"
          ]
        }
      ]
    },
    {
      "cell_type": "code",
      "source": [
        "# 9. Type casting with list elements\n",
        "my_list = [\"1\", \"2\", \"3\"]\n",
        "int_list = [int(x) for x in my_list]\n",
        "print(\"Original list:\", my_list)\n",
        "print(\"Converted to integers:\", int_list)"
      ],
      "metadata": {
        "colab": {
          "base_uri": "https://localhost:8080/"
        },
        "id": "MpHUhU3OSwhG",
        "outputId": "6eefb614-8c10-411e-e7c2-7f8e2f47c8d5"
      },
      "execution_count": 24,
      "outputs": [
        {
          "output_type": "stream",
          "name": "stdout",
          "text": [
            "Original list: ['1', '2', '3']\n",
            "Converted to integers: [1, 2, 3]\n"
          ]
        }
      ]
    },
    {
      "cell_type": "code",
      "source": [
        "# 10. Check if a number is positive, negative, or zero\n",
        "num = float(input(\"Enter a number: \"))\n",
        "\n",
        "if num > 0:\n",
        "    print(\"The number is positive.\")\n",
        "elif num < 0:\n",
        "    print(\"The number is negative.\")\n",
        "else:\n",
        "    print(\"The number is zero.\")\n",
        "\n"
      ],
      "metadata": {
        "id": "TmpS-ZtgSweg"
      },
      "execution_count": null,
      "outputs": []
    },
    {
      "cell_type": "code",
      "source": [
        "# 11. Print numbers from 1 to 100 using a for loop\n",
        "for i in range(1, 101):\n",
        "    print(i)"
      ],
      "metadata": {
        "id": "uHwuJgQXSwYi"
      },
      "execution_count": null,
      "outputs": []
    },
    {
      "cell_type": "code",
      "source": [
        "# 12. Sum of all even numbers between 1 and 500\n",
        "total = sum(i for i in range(1, 501) if i % 2 == 0)\n",
        "print(\"Sum of even numbers between 1 and 500:\", total)\n"
      ],
      "metadata": {
        "id": "zmsjr4WBSwNE"
      },
      "execution_count": null,
      "outputs": []
    },
    {
      "cell_type": "code",
      "source": [
        "# 13. Reverse a string using a while loop\n",
        "string = input(\"Enter a string: \")\n",
        "reversed_string = \"\"\n",
        "index = len(string) - 1\n",
        "\n",
        "while index >= 0:\n",
        "    reversed_string += string[index]\n",
        "    index -= 1\n",
        "\n",
        "print(\"Reversed string:\", reversed_string)"
      ],
      "metadata": {
        "id": "pfUDcOXqSvwB"
      },
      "execution_count": null,
      "outputs": []
    },
    {
      "cell_type": "code",
      "source": [
        "# 14. Calculate factorial using a while loop\n",
        "num = int(input(\"Enter a number: \"))\n",
        "factorial = 1\n",
        "\n",
        "if num < 0:\n",
        "    print(\"Factorial does not exist for negative numbers.\")\n",
        "else:\n",
        "    while num > 0:\n",
        "        factorial *= num\n",
        "        num -= 1\n",
        "    print(\"Factorial:\", factorial)"
      ],
      "metadata": {
        "id": "MFpe1Jc0WMqE"
      },
      "execution_count": null,
      "outputs": []
    },
    {
      "cell_type": "code",
      "source": [],
      "metadata": {
        "id": "A3i3Z0roWMcB"
      },
      "execution_count": null,
      "outputs": []
    }
  ]
}